{
 "cells": [
  {
   "cell_type": "markdown",
   "id": "877b5734-9093-4e1d-8617-44227dd3c1d6",
   "metadata": {},
   "source": [
    "# Longevity Project Data Check"
   ]
  },
  {
   "cell_type": "markdown",
   "id": "cb1b970d-147d-45eb-b75d-c784282bedf7",
   "metadata": {},
   "source": [
    "Import libraries"
   ]
  },
  {
   "cell_type": "code",
   "execution_count": 5,
   "id": "08291913-789e-4bc8-be76-19bd687d8c18",
   "metadata": {},
   "outputs": [],
   "source": [
    "import pandas as pd\n",
    "import numpy as np"
   ]
  },
  {
   "cell_type": "markdown",
   "id": "ccc11c6c-7ebc-427b-85fb-87e43ffbc9f8",
   "metadata": {},
   "source": [
    "Load datasets and define variaibles"
   ]
  },
  {
   "cell_type": "code",
   "execution_count": 6,
   "id": "f8cc8609-923d-4191-a0a1-ae1d12da374e",
   "metadata": {},
   "outputs": [],
   "source": [
    "life_expectancy = 'Lifeexpectancy years--CLEAN.xlsx'\n",
    "health_indicators = 'CLEAN DATA/Scottish Health Survey Indicators period--CLEAN.xlsx'\n",
    "health_fruit_veg = 'CLEAN DATA/Scottish Health Survey Indicators period--CLEAN.xlsx'\n",
    "freq_use_green = 'SHS Frequency of use of nearest green or blue space--CLEAN.xlsx'\n",
    "statisfaction_facilities = 'SHS Satisfaction with local authority sports and leisure facilities--CLEAN.xlsx'\n",
    "use_of_facilities ='SHS Use of local authority sports and leisure facilities--CLEAN.xlsx'\n",
    "walking_distance ='SHS Walking distance to nearest green or blue space--CLEAN.xlsx'"
   ]
  },
  {
   "cell_type": "markdown",
   "id": "fb2ebe3d-6d0e-4913-9fca-a06df448f0e3",
   "metadata": {},
   "source": [
    "# Check Lifeexpectancy years--CLEAN.xlsx"
   ]
  },
  {
   "cell_type": "code",
   "execution_count": null,
   "id": "4b3b74cd-7652-43a8-b501-d3912632ff67",
   "metadata": {},
   "outputs": [],
   "source": [
    "# Load of Excel file\n",
    "df = pd.read_excel(life_expectancy, engine='openpyxl')\n",
    "\n",
    "# Display the structure of the data\n",
    "print(\"Data Structure:\")\n",
    "print(df.info())\n",
    "\n",
    "# Check for empty fields\n",
    "print(\"\\nEmpty Fields:\")\n",
    "print(df.isnull().sum())\n",
    "\n",
    "# Check for errors (assuming errors are represented as NaN or invalid data types)\n",
    "print(\"\\nErrors:\")\n",
    "print(df[df.isnull().any(axis=1)])\n",
    "\n",
    "# Display the first few rows of the data\n",
    "print(\"\\nFirst few rows of the data:\")\n",
    "print(df.head())\n",
    "\n",
    "# Display summary statistics\n",
    "print(\"\\nSummary Statistics:\")\n",
    "print(df.describe())"
   ]
  },
  {
   "cell_type": "markdown",
   "id": "048125d3-79f2-401f-b7cf-1c2b16334913",
   "metadata": {},
   "source": [
    "# Check Scottish Health Survey Fruit and Veg data--CLEAN.xlsx"
   ]
  },
  {
   "cell_type": "code",
   "execution_count": null,
   "id": "2cb534c5-c769-43f1-8d7c-902cbec563f0",
   "metadata": {},
   "outputs": [],
   "source": [
    "# Load of Excel file\n",
    "df = pd.read_excel(health_fruit_veg, engine='openpyxl')\n",
    "\n",
    "# Display the structure of the data\n",
    "print(\"Data Structure:\")\n",
    "print(df.info())\n",
    "\n",
    "# Check for empty fields\n",
    "print(\"\\nEmpty Fields:\")\n",
    "print(df.isnull().sum())\n",
    "\n",
    "# Check for errors (assuming errors are represented as NaN or invalid data types)\n",
    "print(\"\\nErrors:\")\n",
    "print(df[df.isnull().any(axis=1)])\n",
    "\n",
    "# Display the first few rows of the data\n",
    "print(\"\\nFirst few rows of the data:\")\n",
    "print(df.head())\n",
    "\n",
    "# Display summary statistics\n",
    "print(\"\\nSummary Statistics:\")\n",
    "print(df.describe())"
   ]
  },
  {
   "cell_type": "markdown",
   "id": "d52c6af6-b459-4b3a-9a95-9c6eacef8508",
   "metadata": {},
   "source": [
    "# Check Scottish Health Survey Indicators period--CLEAN.xlsx"
   ]
  },
  {
   "cell_type": "code",
   "execution_count": null,
   "id": "f800a8e7-f254-40c1-81f9-46d72e1089d2",
   "metadata": {},
   "outputs": [],
   "source": [
    "# Load of Excel file\n",
    "df = pd.read_excel(health_indicators, engine='openpyxl')\n",
    "\n",
    "# Display the structure of the data\n",
    "print(\"Data Structure:\")\n",
    "print(df.info())\n",
    "\n",
    "# Check for empty fields\n",
    "print(\"\\nEmpty Fields:\")\n",
    "print(df.isnull().sum())\n",
    "\n",
    "# Check for errors (assuming errors are represented as NaN or invalid data types)\n",
    "print(\"\\nErrors:\")\n",
    "print(df[df.isnull().any(axis=1)])\n",
    "\n",
    "# Display the first few rows of the data\n",
    "print(\"\\nFirst few rows of the data:\")\n",
    "print(df.head())\n",
    "\n",
    "# Display summary statistics\n",
    "print(\"\\nSummary Statistics:\")\n",
    "print(df.describe())"
   ]
  },
  {
   "cell_type": "markdown",
   "id": "bc213aee-e63d-46c6-af19-f28c4e688906",
   "metadata": {},
   "source": [
    "# Check SHS Frequency of use of nearest green or blue space--CLEAN.xlsx"
   ]
  },
  {
   "cell_type": "code",
   "execution_count": null,
   "id": "8907d09c-e02e-4df7-aeb1-852a52340465",
   "metadata": {},
   "outputs": [],
   "source": [
    "# Load of Excel file\n",
    "df = pd.read_excel(freq_use_green, engine='openpyxl')\n",
    "\n",
    "# Display the structure of the data\n",
    "print(\"Data Structure:\")\n",
    "print(df.info())\n",
    "\n",
    "# Check for empty fields\n",
    "print(\"\\nEmpty Fields:\")\n",
    "print(df.isnull().sum())\n",
    "\n",
    "# Check for errors (assuming errors are represented as NaN or invalid data types)\n",
    "print(\"\\nErrors:\")\n",
    "print(df[df.isnull().any(axis=1)])\n",
    "\n",
    "# Display the first few rows of the data\n",
    "print(\"\\nFirst few rows of the data:\")\n",
    "print(df.head())\n",
    "\n",
    "# Display summary statistics\n",
    "print(\"\\nSummary Statistics:\")\n",
    "print(df.describe())"
   ]
  },
  {
   "cell_type": "markdown",
   "id": "f84fd585-af02-4c15-b91b-08fd088f67ef",
   "metadata": {},
   "source": [
    "# Check SHS Satisfaction with local authority sports and leisure facilities--CLEAN.xlsx"
   ]
  },
  {
   "cell_type": "code",
   "execution_count": 9,
   "id": "2421574c-6847-42a6-a348-ea82a11998c5",
   "metadata": {},
   "outputs": [
    {
     "name": "stdout",
     "output_type": "stream",
     "text": [
      "Data Structure:\n",
      "<class 'pandas.core.frame.DataFrame'>\n",
      "RangeIndex: 2372 entries, 0 to 2371\n",
      "Data columns (total 4 columns):\n",
      " #   Column              Non-Null Count  Dtype  \n",
      "---  ------              --------------  -----  \n",
      " 0   Years               2372 non-null   object \n",
      " 1   Area name           2372 non-null   object \n",
      " 2   Use of the service  2372 non-null   object \n",
      " 3   Percentage          2372 non-null   float64\n",
      "dtypes: float64(1), object(3)\n",
      "memory usage: 74.3+ KB\n",
      "None\n",
      "\n",
      "Empty Fields:\n",
      "Years                 0\n",
      "Area name             0\n",
      "Use of the service    0\n",
      "Percentage            0\n",
      "dtype: int64\n",
      "\n",
      "Errors:\n",
      "Empty DataFrame\n",
      "Columns: [Years, Area name, Use of the service, Percentage]\n",
      "Index: []\n",
      "\n",
      "First few rows of the data:\n",
      "       Years      Area name          Use of the service  Percentage\n",
      "0  2007/2008  Aberdeen City  Have used in the past year        40.6\n",
      "1  2009/2010  Aberdeen City  Have used in the past year        38.4\n",
      "2       2011  Aberdeen City  Have used in the past year        37.9\n",
      "3       2012  Aberdeen City  Have used in the past year        28.3\n",
      "4       2013  Aberdeen City  Have used in the past year        36.8\n",
      "\n",
      "Summary Statistics:\n",
      "         Percentage\n",
      "count   2372.000000\n",
      "mean     158.693761\n",
      "std      868.748114\n",
      "min        0.000000\n",
      "25%       27.275000\n",
      "50%       40.100000\n",
      "75%      100.000000\n",
      "max    19470.000000\n"
     ]
    }
   ],
   "source": [
    "# Load of Excel file\n",
    "df = pd.read_excel(statisfaction_facilities, engine='openpyxl')\n",
    "\n",
    "# Display the structure of the data\n",
    "print(\"Data Structure:\")\n",
    "print(df.info())\n",
    "\n",
    "# Check for empty fields\n",
    "print(\"\\nEmpty Fields:\")\n",
    "print(df.isnull().sum())\n",
    "\n",
    "# Check for errors (assuming errors are represented as NaN or invalid data types)\n",
    "print(\"\\nErrors:\")\n",
    "print(df[df.isnull().any(axis=1)])\n",
    "\n",
    "# Display the first few rows of the data\n",
    "print(\"\\nFirst few rows of the data:\")\n",
    "print(df.head())\n",
    "\n",
    "# Display summary statistics\n",
    "print(\"\\nSummary Statistics:\")\n",
    "print(df.describe())"
   ]
  },
  {
   "cell_type": "markdown",
   "id": "c0d8b4aa-29d5-4674-b0c7-a9f65dc0f26c",
   "metadata": {},
   "source": [
    "# Check SHS Use of local authority sports and leisure facilities--CLEAN.xlsx"
   ]
  },
  {
   "cell_type": "code",
   "execution_count": 8,
   "id": "052ee603-b351-4f35-b993-b65d6814b85b",
   "metadata": {},
   "outputs": [
    {
     "name": "stdout",
     "output_type": "stream",
     "text": [
      "Data Structure:\n",
      "<class 'pandas.core.frame.DataFrame'>\n",
      "RangeIndex: 2372 entries, 0 to 2371\n",
      "Data columns (total 4 columns):\n",
      " #   Column              Non-Null Count  Dtype  \n",
      "---  ------              --------------  -----  \n",
      " 0   Years               2372 non-null   object \n",
      " 1   Area name           2372 non-null   object \n",
      " 2   Use of the service  2372 non-null   object \n",
      " 3   Percentage          2372 non-null   float64\n",
      "dtypes: float64(1), object(3)\n",
      "memory usage: 74.3+ KB\n",
      "None\n",
      "\n",
      "Empty Fields:\n",
      "Years                 0\n",
      "Area name             0\n",
      "Use of the service    0\n",
      "Percentage            0\n",
      "dtype: int64\n",
      "\n",
      "Errors:\n",
      "Empty DataFrame\n",
      "Columns: [Years, Area name, Use of the service, Percentage]\n",
      "Index: []\n",
      "\n",
      "First few rows of the data:\n",
      "       Years      Area name          Use of the service  Percentage\n",
      "0  2007/2008  Aberdeen City  Have used in the past year        40.6\n",
      "1  2009/2010  Aberdeen City  Have used in the past year        38.4\n",
      "2       2011  Aberdeen City  Have used in the past year        37.9\n",
      "3       2012  Aberdeen City  Have used in the past year        28.3\n",
      "4       2013  Aberdeen City  Have used in the past year        36.8\n",
      "\n",
      "Summary Statistics:\n",
      "         Percentage\n",
      "count   2372.000000\n",
      "mean     158.693761\n",
      "std      868.748114\n",
      "min        0.000000\n",
      "25%       27.275000\n",
      "50%       40.100000\n",
      "75%      100.000000\n",
      "max    19470.000000\n"
     ]
    }
   ],
   "source": [
    "# Load of Excel file\n",
    "df = pd.read_excel(use_of_facilities, engine='openpyxl')\n",
    "\n",
    "# Display the structure of the data\n",
    "print(\"Data Structure:\")\n",
    "print(df.info())\n",
    "\n",
    "# Check for empty fields\n",
    "print(\"\\nEmpty Fields:\")\n",
    "print(df.isnull().sum())\n",
    "\n",
    "# Check for errors (assuming errors are represented as NaN or invalid data types)\n",
    "print(\"\\nErrors:\")\n",
    "print(df[df.isnull().any(axis=1)])\n",
    "\n",
    "# Display the first few rows of the data\n",
    "print(\"\\nFirst few rows of the data:\")\n",
    "print(df.head())\n",
    "\n",
    "# Display summary statistics\n",
    "print(\"\\nSummary Statistics:\")\n",
    "print(df.describe())"
   ]
  },
  {
   "cell_type": "markdown",
   "id": "973f34fa-2879-4bd8-a077-9a20912cf3a4",
   "metadata": {},
   "source": [
    "# Check SHS Walking distance to nearest green or blue space--CLEAN.xlsx"
   ]
  },
  {
   "cell_type": "code",
   "execution_count": 7,
   "id": "59e54a39-1df7-4853-901f-49cf6a1259a5",
   "metadata": {},
   "outputs": [
    {
     "name": "stdout",
     "output_type": "stream",
     "text": [
      "Data Structure:\n",
      "<class 'pandas.core.frame.DataFrame'>\n",
      "RangeIndex: 1745 entries, 0 to 1744\n",
      "Data columns (total 4 columns):\n",
      " #   Column            Non-Null Count  Dtype  \n",
      "---  ------            --------------  -----  \n",
      " 0   Years             1745 non-null   int64  \n",
      " 1   Area name         1745 non-null   object \n",
      " 2   Walking distance  1745 non-null   object \n",
      " 3   Percentage        1745 non-null   float64\n",
      "dtypes: float64(1), int64(1), object(2)\n",
      "memory usage: 54.7+ KB\n",
      "None\n",
      "\n",
      "Empty Fields:\n",
      "Years               0\n",
      "Area name           0\n",
      "Walking distance    0\n",
      "Percentage          0\n",
      "dtype: int64\n",
      "\n",
      "Errors:\n",
      "Empty DataFrame\n",
      "Columns: [Years, Area name, Walking distance, Percentage]\n",
      "Index: []\n",
      "\n",
      "First few rows of the data:\n",
      "   Years      Area name Walking distance  Percentage\n",
      "0   2013  Aberdeen City     In 5 minutes        64.4\n",
      "1   2014  Aberdeen City     In 5 minutes        74.5\n",
      "2   2015  Aberdeen City     In 5 minutes        59.3\n",
      "3   2016  Aberdeen City     In 5 minutes        61.5\n",
      "4   2017  Aberdeen City     In 5 minutes        56.7\n",
      "\n",
      "Summary Statistics:\n",
      "             Years   Percentage\n",
      "count  1745.000000  1745.000000\n",
      "mean   2017.441834   134.362292\n",
      "std       3.233847   700.647666\n",
      "min    2013.000000     0.100000\n",
      "25%    2015.000000    10.400000\n",
      "50%    2017.000000    52.700000\n",
      "75%    2019.000000   100.000000\n",
      "max    2023.000000  9920.000000\n"
     ]
    }
   ],
   "source": [
    "# Load of Excel file\n",
    "df = pd.read_excel(walking_distance, engine='openpyxl')\n",
    "\n",
    "# Display the structure of the data\n",
    "print(\"Data Structure:\")\n",
    "print(df.info())\n",
    "\n",
    "# Check for empty fields\n",
    "print(\"\\nEmpty Fields:\")\n",
    "print(df.isnull().sum())\n",
    "\n",
    "# Check for errors (assuming errors are represented as NaN or invalid data types)\n",
    "print(\"\\nErrors:\")\n",
    "print(df[df.isnull().any(axis=1)])\n",
    "\n",
    "# Display the first few rows of the data\n",
    "print(\"\\nFirst few rows of the data:\")\n",
    "print(df.head())\n",
    "\n",
    "# Display summary statistics\n",
    "print(\"\\nSummary Statistics:\")\n",
    "print(df.describe())"
   ]
  },
  {
   "cell_type": "code",
   "execution_count": null,
   "id": "8a83b1d0-2e3b-4380-90c9-8264f684fff0",
   "metadata": {},
   "outputs": [],
   "source": []
  }
 ],
 "metadata": {
  "kernelspec": {
   "display_name": "Python 3 (ipykernel)",
   "language": "python",
   "name": "python3"
  },
  "language_info": {
   "codemirror_mode": {
    "name": "ipython",
    "version": 3
   },
   "file_extension": ".py",
   "mimetype": "text/x-python",
   "name": "python",
   "nbconvert_exporter": "python",
   "pygments_lexer": "ipython3",
   "version": "3.11.4"
  }
 },
 "nbformat": 4,
 "nbformat_minor": 5
}
