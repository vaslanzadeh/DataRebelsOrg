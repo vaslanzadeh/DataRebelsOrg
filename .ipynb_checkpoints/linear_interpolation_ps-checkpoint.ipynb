{
 "cells": [
  {
   "cell_type": "code",
   "execution_count": 7,
   "id": "54189df4-4e43-4578-988c-ca0b454ccca7",
   "metadata": {},
   "outputs": [
    {
     "name": "stdout",
     "output_type": "stream",
     "text": [
      "Missing values have been imputed using linear interpolation and saved to 'frequency_use_green_blue_space_imputed.csv'.\n"
     ]
    },
    {
     "name": "stderr",
     "output_type": "stream",
     "text": [
      "C:\\Users\\Peter\\AppData\\Local\\Temp\\ipykernel_16456\\1152618200.py:7: FutureWarning: DataFrame.interpolate with object dtype is deprecated and will raise in a future version. Call obj.infer_objects(copy=False) before interpolating instead.\n",
      "  df_interpolated = df.interpolate(method='linear')\n"
     ]
    }
   ],
   "source": [
    "import pandas as pd\n",
    "\n",
    "# Load the dataset\n",
    "df = pd.read_csv('frequency_use_green_blue_space.csv')\n",
    "\n",
    "# Perform linear interpolation to fill missing values\n",
    "df_interpolated = df.interpolate(method='linear')\n",
    "\n",
    "# Save the imputed dataset to a new CSV file\n",
    "df_interpolated.to_csv('frequency_use_green_blue_space_imputed.csv', index=False)\n",
    "\n",
    "print(\"Missing values have been imputed using linear interpolation and saved to 'frequency_use_green_blue_space_imputed.csv'.\")"
   ]
  },
  {
   "cell_type": "code",
   "execution_count": null,
   "id": "95b2af6c-bb2f-4225-b169-c1593a54f9ad",
   "metadata": {},
   "outputs": [],
   "source": []
  },
  {
   "cell_type": "code",
   "execution_count": null,
   "id": "1761832f-7843-42da-b59f-90d533af8020",
   "metadata": {},
   "outputs": [],
   "source": []
  }
 ],
 "metadata": {
  "kernelspec": {
   "display_name": "Python 3 (ipykernel)",
   "language": "python",
   "name": "python3"
  },
  "language_info": {
   "codemirror_mode": {
    "name": "ipython",
    "version": 3
   },
   "file_extension": ".py",
   "mimetype": "text/x-python",
   "name": "python",
   "nbconvert_exporter": "python",
   "pygments_lexer": "ipython3",
   "version": "3.11.4"
  }
 },
 "nbformat": 4,
 "nbformat_minor": 5
}
