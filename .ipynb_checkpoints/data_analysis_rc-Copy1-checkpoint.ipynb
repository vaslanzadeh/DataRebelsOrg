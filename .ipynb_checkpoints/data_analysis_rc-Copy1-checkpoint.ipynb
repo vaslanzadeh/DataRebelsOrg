{
 "cells": [
  {
   "cell_type": "code",
   "execution_count": null,
   "id": "cdd7daa8-e7b2-420b-83b1-9283cb046dd4",
   "metadata": {},
   "outputs": [],
   "source": [
    "import pandas as pd\n",
    "import numpy as np\n",
    "import matplotlib.pyplot as plt\n"
   ]
  },
  {
   "cell_type": "code",
   "execution_count": null,
   "id": "cb5a6f93-1b93-4a6e-a757-9591bddf540e",
   "metadata": {},
   "outputs": [],
   "source": [
    "# list datasets\n",
    "life_expectancy = 'Datasets/lifeexpectancy_by_counties.csv'\n",
    "health_indicators = 'Datasets/ScottishHealthSurveyDataByLocalAuthorities.csv'\n",
    "sports_facilities_use = 'Datasets/SHS_Use_of_local_authority_sports_and_leisure_facilities.csv'\n",
    "green_space_use = 'Datasets/SHS_Frequency_of_use_of_nearest_green_or_blue_space.csv'\n",
    "\n"
   ]
  },
  {
   "cell_type": "code",
   "execution_count": 2,
   "id": "84d00ac6-6921-44d2-8aea-ef7f33abf35a",
   "metadata": {},
   "outputs": [
    {
     "name": "stdout",
     "output_type": "stream",
     "text": [
      "Index(['Period', 'Country', 'Area type', 'Area code', 'Area name', 'Sex',\n",
      "       'Sex code', 'Age band', 'Age group', 'Life expectancy',\n",
      "       'Lower confidence interval', 'Upper confidence interval'],\n",
      "      dtype='object')\n",
      "         Period  Country    Area type  Area code   Area name   Sex  Sex code  \\\n",
      "0  2001 to 2003  England  Local Areas  E06000001  Hartlepool  Male         1   \n",
      "1  2001 to 2003  England  Local Areas  E06000001  Hartlepool  Male         1   \n",
      "2  2001 to 2003  England  Local Areas  E06000001  Hartlepool  Male         1   \n",
      "3  2001 to 2003  England  Local Areas  E06000001  Hartlepool  Male         1   \n",
      "4  2001 to 2003  England  Local Areas  E06000001  Hartlepool  Male         1   \n",
      "\n",
      "   Age band Age group  Life expectancy  Lower confidence interval  \\\n",
      "0         1        <1            73.42                      72.68   \n",
      "1         2  01 to 04            72.90                      72.21   \n",
      "2         3  05 to 09            68.94                      68.26   \n",
      "3         4  10 to 14            63.97                      63.30   \n",
      "4         5  15 to 19            59.00                      58.33   \n",
      "\n",
      "   Upper confidence interval  \n",
      "0                      74.16  \n",
      "1                      73.58  \n",
      "2                      69.61  \n",
      "3                      64.65  \n",
      "4                      59.67  \n"
     ]
    }
   ],
   "source": [
    "import pandas as pd\n",
    "\n",
    "life_expectancy = 'Datasets/lifeexpectancy_by_counties.csv'\n",
    "df_life = pd.read_csv(life_expectancy)\n",
    "\n",
    "print(df_life.columns)  # Check columns\n",
    "print(df_life.head())   # Explicitly print the first 5 rows\n",
    "\n",
    "\n",
    "\n"
   ]
  },
  {
   "cell_type": "code",
   "execution_count": 3,
   "id": "31547290-97e1-454a-a4e3-7a2e35ae3adf",
   "metadata": {},
   "outputs": [
    {
     "name": "stdout",
     "output_type": "stream",
     "text": [
      "Index(['FeatureCode', 'FeatureName', 'FeatureType', 'DateCode', 'Measurement',\n",
      "       'Units', 'Value', 'Scottish Health Survey Indicator', 'Sex'],\n",
      "      dtype='object')\n",
      "  FeatureCode         FeatureName        FeatureType   DateCode  \\\n",
      "0   S08000015  Ayrshire and Arran  Health Board Area  2015-2018   \n",
      "1   S08000015  Ayrshire and Arran  Health Board Area  2015-2018   \n",
      "2   S08000015  Ayrshire and Arran  Health Board Area  2015-2018   \n",
      "3   S08000015  Ayrshire and Arran  Health Board Area  2015-2018   \n",
      "4   S08000015  Ayrshire and Arran  Health Board Area  2015-2018   \n",
      "\n",
      "                  Measurement              Units  Value  \\\n",
      "0                     Percent  Percent Of Adults   25.0   \n",
      "1  95% Lower Confidence Limit  Percent Of Adults   23.1   \n",
      "2  95% Upper Confidence Limit  Percent Of Adults   27.7   \n",
      "3                     Percent  Percent Of Adults   16.0   \n",
      "4  95% Lower Confidence Limit  Percent Of Adults   13.3   \n",
      "\n",
      "                 Scottish Health Survey Indicator     Sex  \n",
      "0  Alcohol consumption: Hazardous/Harmful drinker     All  \n",
      "1  Alcohol consumption: Hazardous/Harmful drinker     All  \n",
      "2  Alcohol consumption: Hazardous/Harmful drinker     All  \n",
      "3  Alcohol consumption: Hazardous/Harmful drinker  Female  \n",
      "4  Alcohol consumption: Hazardous/Harmful drinker  Female  \n"
     ]
    }
   ],
   "source": [
    "# Load Health Indicators\n",
    "health_indicators = 'Datasets/ScottishHealthSurveyDataByLocalAuthorities.csv'\n",
    "df_health = pd.read_csv(health_indicators)\n",
    "print(df_health.columns)\n",
    "print(df_health.head())\n",
    "\n"
   ]
  },
  {
   "cell_type": "code",
   "execution_count": 4,
   "id": "fc8e437c-cae0-4390-839f-d4d133cd6751",
   "metadata": {},
   "outputs": [
    {
     "name": "stdout",
     "output_type": "stream",
     "text": [
      "Index(['FeatureCode', 'FeatureName', 'FeatureType', 'DateCode', 'Measurement',\n",
      "       'Units', 'Value', 'Scottish Health Survey Indicator', 'Sex'],\n",
      "      dtype='object')\n",
      "  FeatureCode         FeatureName        FeatureType   DateCode  \\\n",
      "0   S08000015  Ayrshire and Arran  Health Board Area  2015-2018   \n",
      "1   S08000015  Ayrshire and Arran  Health Board Area  2015-2018   \n",
      "2   S08000015  Ayrshire and Arran  Health Board Area  2015-2018   \n",
      "3   S08000015  Ayrshire and Arran  Health Board Area  2015-2018   \n",
      "4   S08000015  Ayrshire and Arran  Health Board Area  2015-2018   \n",
      "\n",
      "                  Measurement              Units  Value  \\\n",
      "0                     Percent  Percent Of Adults   25.0   \n",
      "1  95% Lower Confidence Limit  Percent Of Adults   23.1   \n",
      "2  95% Upper Confidence Limit  Percent Of Adults   27.7   \n",
      "3                     Percent  Percent Of Adults   16.0   \n",
      "4  95% Lower Confidence Limit  Percent Of Adults   13.3   \n",
      "\n",
      "                 Scottish Health Survey Indicator     Sex  \n",
      "0  Alcohol consumption: Hazardous/Harmful drinker     All  \n",
      "1  Alcohol consumption: Hazardous/Harmful drinker     All  \n",
      "2  Alcohol consumption: Hazardous/Harmful drinker     All  \n",
      "3  Alcohol consumption: Hazardous/Harmful drinker  Female  \n",
      "4  Alcohol consumption: Hazardous/Harmful drinker  Female  \n"
     ]
    }
   ],
   "source": [
    "# Load Health Indicators\n",
    "health_indicators = 'Datasets/ScottishHealthSurveyDataByLocalAuthorities.csv'\n",
    "df_health = pd.read_csv(health_indicators)\n",
    "print(df_health.columns)\n",
    "print(df_health.head())\n"
   ]
  },
  {
   "cell_type": "code",
   "execution_count": 5,
   "id": "c46bd671-13d2-4c25-a216-a9584cbfba9b",
   "metadata": {},
   "outputs": [
    {
     "name": "stdout",
     "output_type": "stream",
     "text": [
      "Index(['Council', 'Frequency', '2009', '2010', '2011', '2012', '2013', '2014',\n",
      "       '2015', '2016', '2017', '2018', '2019', '2022', '2023'],\n",
      "      dtype='object')\n",
      "         Council                   Frequency  2009  2010  2011  2012  2013  \\\n",
      "0  Aberdeen City  Have used in the past year  40.6  38.4  37.9  28.3  36.8   \n",
      "1  Aberdeen City   Not used in the past year  19.1    24  19.8  21.1  24.9   \n",
      "2  Aberdeen City                  Never used  39.9  37.6  41.8  50.6  37.9   \n",
      "3  Aberdeen City                  Don't know   0.3     -   0.5     -   0.4   \n",
      "4  Aberdeen City                         All   100   100   100   100   100   \n",
      "\n",
      "   2014  2015  2016  2017  2018  2019  2022  2023  \n",
      "0  41.9  42.9  36.4  36.5  36.5  22.2  26.3  19.9  \n",
      "1  24.7  13.8  18.5  21.6  17.1   9.3  17.2  23.3  \n",
      "2  32.3  42.6  45.1  41.3  45.6  66.9  55.4  54.1  \n",
      "3   1.1   0.6     -   0.6   0.8   1.7   1.2   2.7  \n",
      "4   100   100   100   100   100   100   100   100  \n"
     ]
    }
   ],
   "source": [
    "# Load Sports Facilities Use\n",
    "sports_facilities_use = 'Datasets/SHS_Use_of_local_authority_sports_and_leisure_facilities.csv'\n",
    "df_sports = pd.read_csv(sports_facilities_use)\n",
    "print(df_sports.columns)\n",
    "print(df_sports.head())\n",
    "\n"
   ]
  },
  {
   "cell_type": "code",
   "execution_count": 6,
   "id": "f8ce1f5f-c73c-4778-93b1-64a40116e849",
   "metadata": {},
   "outputs": [
    {
     "name": "stdout",
     "output_type": "stream",
     "text": [
      "Index(['Council', 'Frequency', '2013', '2014', '2015', '2016', '2017', '2019',\n",
      "       '2023'],\n",
      "      dtype='object')\n",
      "         Council                         Frequency  2013  2014  2015  2016  \\\n",
      "0  Aberdeen City  Every day / Several times a week  29.8    35  33.1  33.6   \n",
      "1  Aberdeen City                       Once a week  14.1  10.6  12.5  12.8   \n",
      "2  Aberdeen City                      Once a month  17.6    18    20  22.4   \n",
      "3  Aberdeen City                        Less often  15.8   9.2  10.2  11.2   \n",
      "4  Aberdeen City                        Not at all  22.8  26.8  24.2  19.4   \n",
      "\n",
      "   2017  2019  2023  \n",
      "0  35.9  31.9  35.6  \n",
      "1  11.7  17.2  15.9  \n",
      "2    16  18.9  17.5  \n",
      "3  14.3  12.2   8.7  \n",
      "4  22.1  19.4  22.4  \n"
     ]
    }
   ],
   "source": [
    "# Load Green/Blue Space Use\n",
    "green_space_use = 'Datasets/SHS_Frequency_of_use_of_nearest_green_or_blue_space.csv'\n",
    "df_green = pd.read_csv(green_space_use)\n",
    "print(df_green.columns)\n",
    "print(df_green.head())\n"
   ]
  },
  {
   "cell_type": "code",
   "execution_count": 7,
   "id": "f0bee009-10e5-4c70-89a3-bec227341900",
   "metadata": {},
   "outputs": [
    {
     "name": "stdout",
     "output_type": "stream",
     "text": [
      "FeatureCode                         0\n",
      "FeatureName                         0\n",
      "FeatureType                         0\n",
      "DateCode                            0\n",
      "Measurement                         0\n",
      "Units                               0\n",
      "Value                               0\n",
      "Scottish Health Survey Indicator    0\n",
      "Sex                                 0\n",
      "dtype: int64\n",
      "Council      0\n",
      "Frequency    0\n",
      "2009         0\n",
      "2010         0\n",
      "2011         0\n",
      "2012         0\n",
      "2013         0\n",
      "2014         0\n",
      "2015         0\n",
      "2016         0\n",
      "2017         0\n",
      "2018         0\n",
      "2019         0\n",
      "2022         0\n",
      "2023         0\n",
      "dtype: int64\n",
      "Council      0\n",
      "Frequency    0\n",
      "2013         0\n",
      "2014         0\n",
      "2015         0\n",
      "2016         0\n",
      "2017         0\n",
      "2019         0\n",
      "2023         0\n",
      "dtype: int64\n"
     ]
    }
   ],
   "source": [
    "print(df_health.isnull().sum())\n",
    "print(df_sports.isnull().sum())\n",
    "print(df_green.isnull().sum())\n"
   ]
  },
  {
   "cell_type": "code",
   "execution_count": 10,
   "id": "a13b0c98-8283-4387-b1fe-d59e4c0b53a4",
   "metadata": {},
   "outputs": [
    {
     "name": "stdout",
     "output_type": "stream",
     "text": [
      "  FeatureCode         FeatureName        FeatureType   DateCode  \\\n",
      "0   S08000015  Ayrshire and Arran  Health Board Area  2015-2018   \n",
      "1   S08000015  Ayrshire and Arran  Health Board Area  2015-2018   \n",
      "2   S08000015  Ayrshire and Arran  Health Board Area  2015-2018   \n",
      "3   S08000015  Ayrshire and Arran  Health Board Area  2015-2018   \n",
      "4   S08000015  Ayrshire and Arran  Health Board Area  2015-2018   \n",
      "\n",
      "                  Measurement              Units  Value  \\\n",
      "0                     Percent  Percent Of Adults   25.0   \n",
      "1  95% Lower Confidence Limit  Percent Of Adults   23.1   \n",
      "2  95% Upper Confidence Limit  Percent Of Adults   27.7   \n",
      "3                     Percent  Percent Of Adults   16.0   \n",
      "4  95% Lower Confidence Limit  Percent Of Adults   13.3   \n",
      "\n",
      "                 Scottish Health Survey Indicator     Sex  \n",
      "0  Alcohol consumption: Hazardous/Harmful drinker     All  \n",
      "1  Alcohol consumption: Hazardous/Harmful drinker     All  \n",
      "2  Alcohol consumption: Hazardous/Harmful drinker     All  \n",
      "3  Alcohol consumption: Hazardous/Harmful drinker  Female  \n",
      "4  Alcohol consumption: Hazardous/Harmful drinker  Female  \n"
     ]
    }
   ],
   "source": [
    "print(df_health.head())\n",
    "\n"
   ]
  },
  {
   "cell_type": "code",
   "execution_count": 11,
   "id": "1cf02b98-4a78-4b2f-82e5-4d0da1e60b3b",
   "metadata": {},
   "outputs": [
    {
     "name": "stdout",
     "output_type": "stream",
     "text": [
      "         Council                   Frequency  2009  2010  2011  2012  2013  \\\n",
      "0  Aberdeen City  Have used in the past year  40.6  38.4  37.9  28.3  36.8   \n",
      "1  Aberdeen City   Not used in the past year  19.1    24  19.8  21.1  24.9   \n",
      "2  Aberdeen City                  Never used  39.9  37.6  41.8  50.6  37.9   \n",
      "3  Aberdeen City                  Don't know   0.3     -   0.5     -   0.4   \n",
      "4  Aberdeen City                         All   100   100   100   100   100   \n",
      "\n",
      "   2014  2015  2016  2017  2018  2019  2022  2023  \n",
      "0  41.9  42.9  36.4  36.5  36.5  22.2  26.3  19.9  \n",
      "1  24.7  13.8  18.5  21.6  17.1   9.3  17.2  23.3  \n",
      "2  32.3  42.6  45.1  41.3  45.6  66.9  55.4  54.1  \n",
      "3   1.1   0.6     -   0.6   0.8   1.7   1.2   2.7  \n",
      "4   100   100   100   100   100   100   100   100  \n"
     ]
    }
   ],
   "source": [
    "print(df_sports.head())"
   ]
  },
  {
   "cell_type": "code",
   "execution_count": 12,
   "id": "bcbdce50-5eff-457b-9517-f95724d36153",
   "metadata": {},
   "outputs": [
    {
     "name": "stdout",
     "output_type": "stream",
     "text": [
      "         Council                         Frequency  2013  2014  2015  2016  \\\n",
      "0  Aberdeen City  Every day / Several times a week  29.8    35  33.1  33.6   \n",
      "1  Aberdeen City                       Once a week  14.1  10.6  12.5  12.8   \n",
      "2  Aberdeen City                      Once a month  17.6    18    20  22.4   \n",
      "3  Aberdeen City                        Less often  15.8   9.2  10.2  11.2   \n",
      "4  Aberdeen City                        Not at all  22.8  26.8  24.2  19.4   \n",
      "\n",
      "   2017  2019  2023  \n",
      "0  35.9  31.9  35.6  \n",
      "1  11.7  17.2  15.9  \n",
      "2    16  18.9  17.5  \n",
      "3  14.3  12.2   8.7  \n",
      "4  22.1  19.4  22.4  \n"
     ]
    }
   ],
   "source": [
    "print(df_green.head())"
   ]
  },
  {
   "cell_type": "code",
   "execution_count": 13,
   "id": "a6bb5a39-063f-4777-9711-fdd84fdd9352",
   "metadata": {},
   "outputs": [
    {
     "name": "stdout",
     "output_type": "stream",
     "text": [
      "         Period  Country    Area type  Area code   Area name   Sex  Sex code  \\\n",
      "0  2001 to 2003  England  Local Areas  E06000001  Hartlepool  Male         1   \n",
      "1  2001 to 2003  England  Local Areas  E06000001  Hartlepool  Male         1   \n",
      "2  2001 to 2003  England  Local Areas  E06000001  Hartlepool  Male         1   \n",
      "3  2001 to 2003  England  Local Areas  E06000001  Hartlepool  Male         1   \n",
      "4  2001 to 2003  England  Local Areas  E06000001  Hartlepool  Male         1   \n",
      "\n",
      "   Age band Age group  Life expectancy  Lower confidence interval  \\\n",
      "0         1        <1            73.42                      72.68   \n",
      "1         2  01 to 04            72.90                      72.21   \n",
      "2         3  05 to 09            68.94                      68.26   \n",
      "3         4  10 to 14            63.97                      63.30   \n",
      "4         5  15 to 19            59.00                      58.33   \n",
      "\n",
      "   Upper confidence interval  \n",
      "0                      74.16  \n",
      "1                      73.58  \n",
      "2                      69.61  \n",
      "3                      64.65  \n",
      "4                      59.67  \n"
     ]
    }
   ],
   "source": [
    "print(df_life.head())"
   ]
  },
  {
   "cell_type": "code",
   "execution_count": 21,
   "id": "2981e2ce-e5ec-47d4-bdbb-bd487617a75f",
   "metadata": {},
   "outputs": [
    {
     "name": "stdout",
     "output_type": "stream",
     "text": [
      "2019-2023\n",
      "2012-2015\n"
     ]
    }
   ],
   "source": [
    "# check the year range in df_health\n",
    "print(df_health['DateCode'].max())\n",
    "print(df_health['DateCode'].min())"
   ]
  },
  {
   "cell_type": "code",
   "execution_count": 29,
   "id": "3227331e-271a-4137-9592-627a861b7ed9",
   "metadata": {},
   "outputs": [
    {
     "name": "stdout",
     "output_type": "stream",
     "text": [
      "['2001 to 2003' '2002 to 2004' '2003 to 2005' '2004 to 2006'\n",
      " '2005 to 2007' '2006 to 2008' '2007 to 2009' '2008 to 2010'\n",
      " '2009 to 2011' '2010 to 2012' '2011 to 2013' '2012 to 2014'\n",
      " '2013 to 2015' '2014 to 2016' '2015 to 2017' '2016 to 2018'\n",
      " '2017 to 2019' '2018 to 2020' '2019 to 2021' '2020 to 2022'\n",
      " '2021 to 2023']\n"
     ]
    }
   ],
   "source": [
    "# check the year range in df_life\n",
    "print(df_life['Period'].unique())\n"
   ]
  },
  {
   "cell_type": "code",
   "execution_count": 30,
   "id": "7dd74e0f-f3fe-4aa5-b2f2-01057d19db16",
   "metadata": {},
   "outputs": [
    {
     "name": "stdout",
     "output_type": "stream",
     "text": [
      "                    Area name     Sex  Life expectancy\n",
      "332640       Clackmannanshire    Male            75.76\n",
      "332660       Clackmannanshire  Female            79.97\n",
      "332680  Dumfries and Galloway    Male            76.87\n",
      "332700  Dumfries and Galloway  Female            80.85\n",
      "332720          East Ayrshire    Male            75.23\n"
     ]
    }
   ],
   "source": [
    "# Filter for Scottish regions only and ages as well as date range\n",
    "df_life_scotland_filtered = df_life_scotland[\n",
    "    (df_life_scotland['Age group'] == '<1') & \n",
    "    (df_life_scotland['Period'] == '2021 to 2023')  \n",
    "]\n",
    "\n",
    "# Select relevant columns\n",
    "df_life_scotland_filtered = df_life_scotland_filtered[['Area name', 'Sex', 'Life expectancy']]\n",
    "\n",
    "print(df_life_scotland_filtered.head())\n",
    "\n",
    "\n"
   ]
  },
  {
   "cell_type": "code",
   "execution_count": 31,
   "id": "be93108a-6ba0-43fb-80d1-7b5e495c1caf",
   "metadata": {},
   "outputs": [
    {
     "name": "stdout",
     "output_type": "stream",
     "text": [
      "           Area name  Avg life expectancy\n",
      "0      Aberdeen City               78.895\n",
      "1      Aberdeenshire               80.970\n",
      "2              Angus               79.720\n",
      "3    Argyll and Bute               80.065\n",
      "4  City of Edinburgh               79.890\n"
     ]
    }
   ],
   "source": [
    "df_life_avg = (\n",
    "    df_life_scotland_filtered\n",
    "    .groupby('Area name')['Life expectancy']\n",
    "    .mean()\n",
    "    .reset_index()\n",
    "    .rename(columns={'Life expectancy': 'Avg life expectancy'})\n",
    ")\n",
    "\n",
    "print(df_life_avg.head())\n"
   ]
  },
  {
   "cell_type": "code",
   "execution_count": 35,
   "id": "84d0e08e-9cb0-4254-9df4-0fe4b532c25f",
   "metadata": {},
   "outputs": [
    {
     "data": {
      "text/plain": [
       "array(['Alcohol consumption: Hazardous/Harmful drinker',\n",
       "       'Alcohol consumption: Moderate drinker',\n",
       "       'Alcohol consumption: Non-drinker',\n",
       "       'Fruit & vegetable consumption: 5 portions or more',\n",
       "       'Fruit & vegetable consumption: Less than 5 portions',\n",
       "       'Fruit & vegetable consumption: None',\n",
       "       'General health questionnaire (GHQ-12): Score 0',\n",
       "       'General health questionnaire (GHQ-12): Score 1-3',\n",
       "       'General health questionnaire (GHQ-12): Score 4+',\n",
       "       'Self-assessed general health: Bad/Very bad',\n",
       "       'Self-assessed general health: Fair',\n",
       "       'Self-assessed general health: Very good/Good',\n",
       "       'Smoking status: Current smoker',\n",
       "       'Smoking status: Never smoked/Used to smoke occasionally',\n",
       "       'Smoking status: Used to smoke regularly',\n",
       "       'Alcohol consumption (mean weekly units)',\n",
       "       'Fruit & vegetable consumption (mean daily portions)',\n",
       "       'Mental wellbeing',\n",
       "       'Any cardiovascular condition: Has a cardiovascular condition',\n",
       "       'Any cardiovascular condition: No cardiovascular condition',\n",
       "       'Doctor-diagnosed asthma: No', 'Doctor-diagnosed asthma: Yes',\n",
       "       'Life satisfaction: Above the mode (9 to 10-Extremely satisfied)',\n",
       "       'Life satisfaction: Below the mode (0-Extremely dissatisfied to 7)',\n",
       "       'Life satisfaction: Mode (8)',\n",
       "       'Provide any regular help or care for any sick, disabled or frail person: No',\n",
       "       'Provide any regular help or care for any sick, disabled or frail person: Yes',\n",
       "       'Summary activity levels: Low activity',\n",
       "       'Summary activity levels: Meets recommendations',\n",
       "       'Summary activity levels: Some activity',\n",
       "       'Summary activity levels: Very low activity', 'Gum bleeding: No',\n",
       "       'Gum bleeding: No natural teeth',\n",
       "       'Gum bleeding: Yes, occasionally', 'Gum bleeding: Yes, often',\n",
       "       'Healthy weight: Healthy weight',\n",
       "       'Healthy weight: Not healthy weight',\n",
       "       'Number of natural teeth (including crowns): 20 or more',\n",
       "       'Number of natural teeth (including crowns): Between 10 and 19',\n",
       "       'Number of natural teeth (including crowns): Fewer than 10',\n",
       "       'Number of natural teeth (including crowns): No natural teeth',\n",
       "       'Thinks would need dental treatment: No',\n",
       "       'Thinks would need dental treatment: No natural teeth',\n",
       "       'Thinks would need dental treatment: Yes',\n",
       "       'Toothache/mouth pain in last month: No',\n",
       "       'Toothache/mouth pain in last month: No natural teeth',\n",
       "       'Toothache/mouth pain in last month: Yes',\n",
       "       'Food insecurity (worried would run out of food): No',\n",
       "       'Food insecurity (worried would run out of food): Yes',\n",
       "       'Doctor-diagnosed angina: No', 'Doctor-diagnosed angina: Yes',\n",
       "       'Doctor-diagnosed diabetes (excluding pregnant): No',\n",
       "       'Doctor-diagnosed diabetes (excluding pregnant): Yes',\n",
       "       'Doctor-diagnosed heart attack: No',\n",
       "       'Doctor-diagnosed heart attack: Yes',\n",
       "       'Doctor-diagnosed heart murmur (excluding pregnant): No',\n",
       "       'Doctor-diagnosed heart murmur (excluding pregnant): Yes',\n",
       "       'Doctor-diagnosed high blood pressure (excluding pregnant): No',\n",
       "       'Doctor-diagnosed high blood pressure (excluding pregnant): Yes',\n",
       "       'Doctor-diagnosed irregular heart rhythm: No',\n",
       "       'Doctor-diagnosed irregular heart rhythm: Yes',\n",
       "       'Doctor-diagnosed other heart condition: No',\n",
       "       'Doctor-diagnosed other heart condition: Yes',\n",
       "       'Doctor-diagnosed stroke: No', 'Doctor-diagnosed stroke: Yes',\n",
       "       'Obesity: Non-obesity', 'Obesity: Obesity',\n",
       "       'Overweight: Not overweight or obesity',\n",
       "       'Overweight: Overweight (including obesity)',\n",
       "       'Severe obesity: Non-severe obesity',\n",
       "       'Severe obesity: Severe obesity',\n",
       "       'Long-term conditions: Limiting long-term conditions',\n",
       "       'Long-term conditions: No long-term conditions',\n",
       "       'Long-term conditions: Non-limiting long-term conditions',\n",
       "       'E-cigarette or vaping device: Currently using',\n",
       "       'E-cigarette or vaping device: Ever previously used',\n",
       "       'E-cigarette or vaping device: Never used',\n",
       "       'Alcohol Use Disorders Identification Test (AUDIT): Harmful drinking (score 16-19)',\n",
       "       'Alcohol Use Disorders Identification Test (AUDIT): Hazardous drinking (score 8-15)',\n",
       "       'Alcohol Use Disorders Identification Test (AUDIT): Low risk drinking/abstinence (score 0-7)',\n",
       "       'Alcohol Use Disorders Identification Test (AUDIT): Possible alcohol dependence (score 20+)',\n",
       "       'Drinking over (3/4) units in a day (includes non-drinkers): From 0 up to and including 4 units for men, 3 units for women',\n",
       "       'Drinking over (3/4) units in a day (includes non-drinkers): Over 4 units for men, over 3 units for women',\n",
       "       'Drinking over (6/8) units in a day (includes non-drinkers): From 0 up to and including 8 units for men, 6 units for women',\n",
       "       'Drinking over (6/8) units in a day (includes non-drinkers): Over 8 units for men, over 6 units for women',\n",
       "       'Frequency of drinking alcohol: 3 or 4 days a week',\n",
       "       'Frequency of drinking alcohol: 5 or 6 days a week',\n",
       "       'Frequency of drinking alcohol: Almost every day',\n",
       "       'Frequency of drinking alcohol: Does not drink',\n",
       "       'Frequency of drinking alcohol: Not at all in last 12 months',\n",
       "       'Frequency of drinking alcohol: Once every couple of months',\n",
       "       'Frequency of drinking alcohol: Once or twice a month',\n",
       "       'Frequency of drinking alcohol: Once or twice a week',\n",
       "       'Frequency of drinking alcohol: Once or twice in last 12 months',\n",
       "       'Whether meets MVPA & muscle strengthening recommendations: Meets MVPA & muscle strengthening recommendations',\n",
       "       'Whether meets MVPA & muscle strengthening recommendations: Meets MVPA recommendations only',\n",
       "       'Whether meets MVPA & muscle strengthening recommendations: Meets muscle strengthening recommendations only',\n",
       "       'Whether meets MVPA & muscle strengthening recommendations: Meets neither recommendation'],\n",
       "      dtype=object)"
      ]
     },
     "execution_count": 35,
     "metadata": {},
     "output_type": "execute_result"
    }
   ],
   "source": [
    "df_health['Scottish Health Survey Indicator'].unique()\n",
    "\n",
    "\n",
    "\n",
    "\n"
   ]
  },
  {
   "cell_type": "code",
   "execution_count": 47,
   "id": "2ba5fc97-3d36-4767-8451-1ffffb24e1c5",
   "metadata": {},
   "outputs": [],
   "source": [
    "df_veg = df_health[\n",
    "    (df_health['Scottish Health Survey Indicator'] == 'Fruit & vegetable consumption: 5 portions or more') &\n",
    "    (df_health['Sex'] == 'All') &\n",
    "    (df_health['Measurement'] == 'Percent')\n",
    "]\n",
    "\n",
    "\n",
    "\n",
    "\n",
    "\n"
   ]
  },
  {
   "cell_type": "code",
   "execution_count": 48,
   "id": "c03132db-3db3-4f60-97a6-f8b463605f15",
   "metadata": {},
   "outputs": [
    {
     "name": "stdout",
     "output_type": "stream",
     "text": [
      "Empty DataFrame\n",
      "Columns: [Council, fruit_veg_intake]\n",
      "Index: []\n"
     ]
    }
   ],
   "source": [
    "df_veg = df_veg[['FeatureName', 'Value']].rename(\n",
    "    columns={'FeatureName': 'Council', 'Value': 'fruit_veg_intake'}\n",
    ")\n",
    "\n",
    "print(df_veg.head())\n"
   ]
  },
  {
   "cell_type": "code",
   "execution_count": 49,
   "id": "074c82c5-77df-4b19-93d2-9d3ff9b2483a",
   "metadata": {},
   "outputs": [
    {
     "name": "stdout",
     "output_type": "stream",
     "text": [
      "Index(['Council', 'Frequency', '2009', '2010', '2011', '2012', '2013', '2014',\n",
      "       '2015', '2016', '2017', '2018', '2019', '2022', '2023'],\n",
      "      dtype='object')\n",
      "Empty DataFrame\n",
      "Columns: [Council, Avg life expectancy, Frequency_x, 2013_x, 2014_x, 2015_x, 2016_x, 2017_x, 2019_x, 2023_x, fruit_veg_intake, Frequency_y, 2009, 2010, 2011, 2012, 2013_y, 2014_y, 2015_y, 2016_y, 2017_y, 2018, 2019_y, 2022, 2023_y]\n",
      "Index: []\n",
      "\n",
      "[0 rows x 25 columns]\n"
     ]
    }
   ],
   "source": [
    "# Load leisure facilities data\n",
    "df_leisure = pd.read_csv('Datasets/SHS_Use_of_local_authority_sports_and_leisure_facilities.csv')\n",
    "\n",
    "# Check columns\n",
    "print(df_leisure.columns)\n",
    "\n",
    "# Rename the council/local authority column \n",
    "df_leisure = df_leisure.rename(columns={'Local Authority': 'Council'})\n",
    "\n",
    "# Now merge all datasets\n",
    "df = df_life_avg.merge(df_green, on='Council') \\\n",
    "                .merge(df_veg, on='Council') \\\n",
    "                .merge(df_leisure, on='Council')\n",
    "\n",
    "print(df.head())\n"
   ]
  },
  {
   "cell_type": "code",
   "execution_count": 50,
   "id": "29c593d4-664e-4917-953a-553ff6f3775f",
   "metadata": {},
   "outputs": [
    {
     "name": "stdout",
     "output_type": "stream",
     "text": [
      "['Aberdeen City' 'Aberdeenshire' 'Angus' 'Argyll and Bute'\n",
      " 'City of Edinburgh' 'Clackmannanshire' 'Dumfries and Galloway'\n",
      " 'Dundee City' 'East Ayrshire' 'East Dunbartonshire' 'East Lothian'\n",
      " 'East Renfrewshire' 'Falkirk' 'Fife' 'Glasgow City' 'Highland'\n",
      " 'Inverclyde' 'Midlothian' 'Moray' 'Na h-Eileanan Siar' 'North Ayrshire'\n",
      " 'North Lanarkshire' 'Orkney Islands' 'Perth and Kinross' 'Renfrewshire'\n",
      " 'Scotland' 'Scottish Borders' 'Shetland Islands' 'South Ayrshire'\n",
      " 'South Lanarkshire' 'Stirling' 'West Dunbartonshire' 'West Lothian']\n",
      "['Aberdeen City' 'Aberdeenshire' 'Angus' 'Argyll and Bute'\n",
      " 'Clackmannanshire' 'Dumfries and Galloway' 'Dundee City' 'East Ayrshire'\n",
      " 'East Dunbartonshire' 'East Lothian' 'East Renfrewshire'\n",
      " 'City of Edinburgh' 'Falkirk' 'Fife' 'Glasgow City' 'Highland'\n",
      " 'Inverclyde' 'Midlothian' 'Moray' 'Na h-Eileanan Siar' 'North Ayrshire'\n",
      " 'North Lanarkshire' 'Orkney Islands' 'Perth and Kinross' 'Renfrewshire'\n",
      " 'Scotland' 'Scottish Borders' 'Shetland Islands' 'South Ayrshire'\n",
      " 'South Lanarkshire' 'Stirling' 'West Dunbartonshire' 'West Lothian']\n",
      "[]\n",
      "['Aberdeen City' 'Aberdeenshire' 'Angus' 'Argyll and Bute'\n",
      " 'Clackmannanshire' 'Dumfries and Galloway' 'Dundee City' 'East Ayrshire'\n",
      " 'East Dunbartonshire' 'East Lothian' 'East Renfrewshire'\n",
      " 'Edinburgh, City of' 'Falkirk' 'Fife' 'Glasgow City' 'Highland'\n",
      " 'Inverclyde' 'Midlothian' 'Moray' 'Na h-Eileanan Siar' 'North Ayrshire'\n",
      " 'North Lanarkshire' 'Orkney Islands' 'Perth and Kinross' 'Renfrewshire'\n",
      " 'Scotland' 'Scottish Borders' 'Shetland Islands' 'South Ayrshire'\n",
      " 'South Lanarkshire' 'Stirling' 'West Dunbartonshire' 'West Lothian']\n"
     ]
    }
   ],
   "source": [
    "print(df_life_avg['Council'].unique())\n",
    "print(df_green['Council'].unique())\n",
    "print(df_veg['Council'].unique())\n",
    "print(df_leisure['Council'].unique())\n"
   ]
  },
  {
   "cell_type": "code",
   "execution_count": 46,
   "id": "63ec88f6-21f5-4947-aaae-9babb5af8213",
   "metadata": {},
   "outputs": [],
   "source": [
    "def fix_edinburgh(name):\n",
    "    if name == 'Edinburgh, City of':\n",
    "        return 'City of Edinburgh'\n",
    "    return name\n",
    "\n",
    "df_green['Council'] = df_green['Council'].apply(fix_edinburgh)\n",
    "df_leisure['Council'] = df_leisure['Council'].apply(fix_edinburgh)"
   ]
  },
  {
   "cell_type": "code",
   "execution_count": 54,
   "id": "8c4b143b-114c-4af3-a697-c01c6e993b55",
   "metadata": {},
   "outputs": [
    {
     "name": "stdout",
     "output_type": "stream",
     "text": [
      "['Alcohol consumption: Hazardous/Harmful drinker'\n",
      " 'Alcohol consumption: Moderate drinker'\n",
      " 'Alcohol consumption: Non-drinker'\n",
      " 'Fruit & vegetable consumption: 5 portions or more'\n",
      " 'Fruit & vegetable consumption: Less than 5 portions'\n",
      " 'Fruit & vegetable consumption: None'\n",
      " 'General health questionnaire (GHQ-12): Score 0'\n",
      " 'General health questionnaire (GHQ-12): Score 1-3'\n",
      " 'General health questionnaire (GHQ-12): Score 4+'\n",
      " 'Self-assessed general health: Bad/Very bad'\n",
      " 'Self-assessed general health: Fair'\n",
      " 'Self-assessed general health: Very good/Good'\n",
      " 'Smoking status: Current smoker'\n",
      " 'Smoking status: Never smoked/Used to smoke occasionally'\n",
      " 'Smoking status: Used to smoke regularly'\n",
      " 'Alcohol consumption (mean weekly units)'\n",
      " 'Fruit & vegetable consumption (mean daily portions)' 'Mental wellbeing'\n",
      " 'Any cardiovascular condition: Has a cardiovascular condition'\n",
      " 'Any cardiovascular condition: No cardiovascular condition'\n",
      " 'Doctor-diagnosed asthma: No' 'Doctor-diagnosed asthma: Yes'\n",
      " 'Life satisfaction: Above the mode (9 to 10-Extremely satisfied)'\n",
      " 'Life satisfaction: Below the mode (0-Extremely dissatisfied to 7)'\n",
      " 'Life satisfaction: Mode (8)'\n",
      " 'Provide any regular help or care for any sick, disabled or frail person: No'\n",
      " 'Provide any regular help or care for any sick, disabled or frail person: Yes'\n",
      " 'Summary activity levels: Low activity'\n",
      " 'Summary activity levels: Meets recommendations'\n",
      " 'Summary activity levels: Some activity'\n",
      " 'Summary activity levels: Very low activity' 'Gum bleeding: No'\n",
      " 'Gum bleeding: No natural teeth' 'Gum bleeding: Yes, occasionally'\n",
      " 'Gum bleeding: Yes, often' 'Healthy weight: Healthy weight'\n",
      " 'Healthy weight: Not healthy weight'\n",
      " 'Number of natural teeth (including crowns): 20 or more'\n",
      " 'Number of natural teeth (including crowns): Between 10 and 19'\n",
      " 'Number of natural teeth (including crowns): Fewer than 10'\n",
      " 'Number of natural teeth (including crowns): No natural teeth'\n",
      " 'Thinks would need dental treatment: No'\n",
      " 'Thinks would need dental treatment: No natural teeth'\n",
      " 'Thinks would need dental treatment: Yes'\n",
      " 'Toothache/mouth pain in last month: No'\n",
      " 'Toothache/mouth pain in last month: No natural teeth'\n",
      " 'Toothache/mouth pain in last month: Yes'\n",
      " 'Food insecurity (worried would run out of food): No'\n",
      " 'Food insecurity (worried would run out of food): Yes'\n",
      " 'Doctor-diagnosed angina: No' 'Doctor-diagnosed angina: Yes'\n",
      " 'Doctor-diagnosed diabetes (excluding pregnant): No'\n",
      " 'Doctor-diagnosed diabetes (excluding pregnant): Yes'\n",
      " 'Doctor-diagnosed heart attack: No' 'Doctor-diagnosed heart attack: Yes'\n",
      " 'Doctor-diagnosed heart murmur (excluding pregnant): No'\n",
      " 'Doctor-diagnosed heart murmur (excluding pregnant): Yes'\n",
      " 'Doctor-diagnosed high blood pressure (excluding pregnant): No'\n",
      " 'Doctor-diagnosed high blood pressure (excluding pregnant): Yes'\n",
      " 'Doctor-diagnosed irregular heart rhythm: No'\n",
      " 'Doctor-diagnosed irregular heart rhythm: Yes'\n",
      " 'Doctor-diagnosed other heart condition: No'\n",
      " 'Doctor-diagnosed other heart condition: Yes'\n",
      " 'Doctor-diagnosed stroke: No' 'Doctor-diagnosed stroke: Yes'\n",
      " 'Obesity: Non-obesity' 'Obesity: Obesity'\n",
      " 'Overweight: Not overweight or obesity'\n",
      " 'Overweight: Overweight (including obesity)'\n",
      " 'Severe obesity: Non-severe obesity' 'Severe obesity: Severe obesity'\n",
      " 'Long-term conditions: Limiting long-term conditions'\n",
      " 'Long-term conditions: No long-term conditions'\n",
      " 'Long-term conditions: Non-limiting long-term conditions'\n",
      " 'E-cigarette or vaping device: Currently using'\n",
      " 'E-cigarette or vaping device: Ever previously used'\n",
      " 'E-cigarette or vaping device: Never used'\n",
      " 'Alcohol Use Disorders Identification Test (AUDIT): Harmful drinking (score 16-19)'\n",
      " 'Alcohol Use Disorders Identification Test (AUDIT): Hazardous drinking (score 8-15)'\n",
      " 'Alcohol Use Disorders Identification Test (AUDIT): Low risk drinking/abstinence (score 0-7)'\n",
      " 'Alcohol Use Disorders Identification Test (AUDIT): Possible alcohol dependence (score 20+)'\n",
      " 'Drinking over (3/4) units in a day (includes non-drinkers): From 0 up to and including 4 units for men, 3 units for women'\n",
      " 'Drinking over (3/4) units in a day (includes non-drinkers): Over 4 units for men, over 3 units for women'\n",
      " 'Drinking over (6/8) units in a day (includes non-drinkers): From 0 up to and including 8 units for men, 6 units for women'\n",
      " 'Drinking over (6/8) units in a day (includes non-drinkers): Over 8 units for men, over 6 units for women'\n",
      " 'Frequency of drinking alcohol: 3 or 4 days a week'\n",
      " 'Frequency of drinking alcohol: 5 or 6 days a week'\n",
      " 'Frequency of drinking alcohol: Almost every day'\n",
      " 'Frequency of drinking alcohol: Does not drink'\n",
      " 'Frequency of drinking alcohol: Not at all in last 12 months'\n",
      " 'Frequency of drinking alcohol: Once every couple of months'\n",
      " 'Frequency of drinking alcohol: Once or twice a month'\n",
      " 'Frequency of drinking alcohol: Once or twice a week'\n",
      " 'Frequency of drinking alcohol: Once or twice in last 12 months'\n",
      " 'Whether meets MVPA & muscle strengthening recommendations: Meets MVPA & muscle strengthening recommendations'\n",
      " 'Whether meets MVPA & muscle strengthening recommendations: Meets MVPA recommendations only'\n",
      " 'Whether meets MVPA & muscle strengthening recommendations: Meets muscle strengthening recommendations only'\n",
      " 'Whether meets MVPA & muscle strengthening recommendations: Meets neither recommendation']\n"
     ]
    }
   ],
   "source": [
    "print(df_health['Scottish Health Survey Indicator'].unique())\n"
   ]
  },
  {
   "cell_type": "code",
   "execution_count": 55,
   "id": "d9e1ec65-1753-4f83-a378-ae5e1560fee0",
   "metadata": {},
   "outputs": [
    {
     "name": "stdout",
     "output_type": "stream",
     "text": [
      "['2015-2018' '2016-2019' '2012-2015' '2013-2016' '2014-2017' '2017-2021'\n",
      " '2018-2022' '2019-2023']\n"
     ]
    }
   ],
   "source": [
    "print(df_health['DateCode'].unique())\n"
   ]
  },
  {
   "cell_type": "code",
   "execution_count": 56,
   "id": "479fe945-74a5-4817-8864-dab5f637870d",
   "metadata": {},
   "outputs": [
    {
     "name": "stdout",
     "output_type": "stream",
     "text": [
      "Empty DataFrame\n",
      "Columns: [Council, Value]\n",
      "Index: []\n"
     ]
    }
   ],
   "source": [
    "df_veg = df_health[\n",
    "    (df_health['Scottish Health Survey Indicator'] == 'Fruit & vegetable consumption: 5 portions or more') &\n",
    "    (df_health['Sex'] == 'All') &\n",
    "    (df_health['DateCode'] == '2019-2023')\n",
    "]\n",
    "\n",
    "# Rename council column\n",
    "df_veg = df_veg.rename(columns={'FeatureName': 'Council'})\n",
    "\n",
    "print(df_veg[['Council', 'Value']].head())\n",
    "\n"
   ]
  },
  {
   "cell_type": "code",
   "execution_count": 57,
   "id": "03a529c7-cc28-4f5d-bfa6-fbebf22f0fc2",
   "metadata": {},
   "outputs": [
    {
     "name": "stdout",
     "output_type": "stream",
     "text": [
      "['2015-2018' '2016-2019' '2012-2015' '2013-2016' '2014-2017']\n"
     ]
    }
   ],
   "source": [
    "print(df_health[\n",
    "    df_health['Scottish Health Survey Indicator'] == 'Fruit & vegetable consumption: 5 portions or more'\n",
    "]['DateCode'].unique())\n"
   ]
  },
  {
   "cell_type": "code",
   "execution_count": 58,
   "id": "b12b1811-dcb2-4261-bde1-6d650054aa53",
   "metadata": {},
   "outputs": [
    {
     "name": "stdout",
     "output_type": "stream",
     "text": [
      "    FeatureCode                Council        FeatureType   DateCode  \\\n",
      "27    S08000015     Ayrshire and Arran  Health Board Area  2015-2018   \n",
      "162   S08000016                Borders  Health Board Area  2015-2018   \n",
      "297   S08000017  Dumfries and Galloway  Health Board Area  2015-2018   \n",
      "432   S08000019           Forth Valley  Health Board Area  2015-2018   \n",
      "567   S08000020               Grampian  Health Board Area  2015-2018   \n",
      "\n",
      "    Measurement              Units  fruit_veg_intake  \\\n",
      "27      Percent  Percent Of Adults              15.0   \n",
      "162     Percent  Percent Of Adults              23.0   \n",
      "297     Percent  Percent Of Adults              19.0   \n",
      "432     Percent  Percent Of Adults              21.0   \n",
      "567     Percent  Percent Of Adults              19.0   \n",
      "\n",
      "                      Scottish Health Survey Indicator  Sex  \n",
      "27   Fruit & vegetable consumption: 5 portions or more  All  \n",
      "162  Fruit & vegetable consumption: 5 portions or more  All  \n",
      "297  Fruit & vegetable consumption: 5 portions or more  All  \n",
      "432  Fruit & vegetable consumption: 5 portions or more  All  \n",
      "567  Fruit & vegetable consumption: 5 portions or more  All  \n"
     ]
    }
   ],
   "source": [
    "df_veg = df_health[\n",
    "    (df_health['Scottish Health Survey Indicator'] == 'Fruit & vegetable consumption: 5 portions or more') &\n",
    "    (df_health['Sex'] == 'All') &\n",
    "    (df_health['Measurement'] == 'Percent') &\n",
    "    (df_health['DateCode'] == '2015-2018')\n",
    "]\n",
    "\n",
    "# Rename the council column \n",
    "df_veg = df_veg.rename(columns={'FeatureName': 'Council', 'Value': 'fruit_veg_intake'})\n",
    "\n",
    "print(df_veg.head())\n"
   ]
  },
  {
   "cell_type": "code",
   "execution_count": 59,
   "id": "c7be659a-03bd-40e7-a04d-92c2317dead1",
   "metadata": {},
   "outputs": [
    {
     "data": {
      "text/html": [
       "<div>\n",
       "<style scoped>\n",
       "    .dataframe tbody tr th:only-of-type {\n",
       "        vertical-align: middle;\n",
       "    }\n",
       "\n",
       "    .dataframe tbody tr th {\n",
       "        vertical-align: top;\n",
       "    }\n",
       "\n",
       "    .dataframe thead th {\n",
       "        text-align: right;\n",
       "    }\n",
       "</style>\n",
       "<table border=\"1\" class=\"dataframe\">\n",
       "  <thead>\n",
       "    <tr style=\"text-align: right;\">\n",
       "      <th></th>\n",
       "      <th>FeatureCode</th>\n",
       "      <th>Council</th>\n",
       "      <th>FeatureType</th>\n",
       "      <th>DateCode</th>\n",
       "      <th>Measurement</th>\n",
       "      <th>Units</th>\n",
       "      <th>fruit_veg_intake</th>\n",
       "      <th>Scottish Health Survey Indicator</th>\n",
       "      <th>Sex</th>\n",
       "    </tr>\n",
       "  </thead>\n",
       "  <tbody>\n",
       "    <tr>\n",
       "      <th>27</th>\n",
       "      <td>S08000015</td>\n",
       "      <td>Ayrshire and Arran</td>\n",
       "      <td>Health Board Area</td>\n",
       "      <td>2015-2018</td>\n",
       "      <td>Percent</td>\n",
       "      <td>Percent Of Adults</td>\n",
       "      <td>15.0</td>\n",
       "      <td>Fruit &amp; vegetable consumption: 5 portions or more</td>\n",
       "      <td>All</td>\n",
       "    </tr>\n",
       "    <tr>\n",
       "      <th>162</th>\n",
       "      <td>S08000016</td>\n",
       "      <td>Borders</td>\n",
       "      <td>Health Board Area</td>\n",
       "      <td>2015-2018</td>\n",
       "      <td>Percent</td>\n",
       "      <td>Percent Of Adults</td>\n",
       "      <td>23.0</td>\n",
       "      <td>Fruit &amp; vegetable consumption: 5 portions or more</td>\n",
       "      <td>All</td>\n",
       "    </tr>\n",
       "    <tr>\n",
       "      <th>297</th>\n",
       "      <td>S08000017</td>\n",
       "      <td>Dumfries and Galloway</td>\n",
       "      <td>Health Board Area</td>\n",
       "      <td>2015-2018</td>\n",
       "      <td>Percent</td>\n",
       "      <td>Percent Of Adults</td>\n",
       "      <td>19.0</td>\n",
       "      <td>Fruit &amp; vegetable consumption: 5 portions or more</td>\n",
       "      <td>All</td>\n",
       "    </tr>\n",
       "    <tr>\n",
       "      <th>432</th>\n",
       "      <td>S08000019</td>\n",
       "      <td>Forth Valley</td>\n",
       "      <td>Health Board Area</td>\n",
       "      <td>2015-2018</td>\n",
       "      <td>Percent</td>\n",
       "      <td>Percent Of Adults</td>\n",
       "      <td>21.0</td>\n",
       "      <td>Fruit &amp; vegetable consumption: 5 portions or more</td>\n",
       "      <td>All</td>\n",
       "    </tr>\n",
       "    <tr>\n",
       "      <th>567</th>\n",
       "      <td>S08000020</td>\n",
       "      <td>Grampian</td>\n",
       "      <td>Health Board Area</td>\n",
       "      <td>2015-2018</td>\n",
       "      <td>Percent</td>\n",
       "      <td>Percent Of Adults</td>\n",
       "      <td>19.0</td>\n",
       "      <td>Fruit &amp; vegetable consumption: 5 portions or more</td>\n",
       "      <td>All</td>\n",
       "    </tr>\n",
       "  </tbody>\n",
       "</table>\n",
       "</div>"
      ],
      "text/plain": [
       "    FeatureCode                Council        FeatureType   DateCode  \\\n",
       "27    S08000015     Ayrshire and Arran  Health Board Area  2015-2018   \n",
       "162   S08000016                Borders  Health Board Area  2015-2018   \n",
       "297   S08000017  Dumfries and Galloway  Health Board Area  2015-2018   \n",
       "432   S08000019           Forth Valley  Health Board Area  2015-2018   \n",
       "567   S08000020               Grampian  Health Board Area  2015-2018   \n",
       "\n",
       "    Measurement              Units  fruit_veg_intake  \\\n",
       "27      Percent  Percent Of Adults              15.0   \n",
       "162     Percent  Percent Of Adults              23.0   \n",
       "297     Percent  Percent Of Adults              19.0   \n",
       "432     Percent  Percent Of Adults              21.0   \n",
       "567     Percent  Percent Of Adults              19.0   \n",
       "\n",
       "                      Scottish Health Survey Indicator  Sex  \n",
       "27   Fruit & vegetable consumption: 5 portions or more  All  \n",
       "162  Fruit & vegetable consumption: 5 portions or more  All  \n",
       "297  Fruit & vegetable consumption: 5 portions or more  All  \n",
       "432  Fruit & vegetable consumption: 5 portions or more  All  \n",
       "567  Fruit & vegetable consumption: 5 portions or more  All  "
      ]
     },
     "execution_count": 59,
     "metadata": {},
     "output_type": "execute_result"
    }
   ],
   "source": [
    "df_veg.head()"
   ]
  },
  {
   "cell_type": "code",
   "execution_count": 60,
   "id": "bee30a11-3f77-4cb9-947a-f688bcc68f3c",
   "metadata": {},
   "outputs": [
    {
     "name": "stdout",
     "output_type": "stream",
     "text": [
      "['Aberdeen City' 'Aberdeenshire' 'Angus' 'Argyll and Bute'\n",
      " 'City of Edinburgh' 'Clackmannanshire' 'Dumfries and Galloway'\n",
      " 'Dundee City' 'East Ayrshire' 'East Dunbartonshire' 'East Lothian'\n",
      " 'East Renfrewshire' 'Falkirk' 'Fife' 'Glasgow City' 'Highland'\n",
      " 'Inverclyde' 'Midlothian' 'Moray' 'Na h-Eileanan Siar' 'North Ayrshire'\n",
      " 'North Lanarkshire' 'Orkney Islands' 'Perth and Kinross' 'Renfrewshire'\n",
      " 'Scotland' 'Scottish Borders' 'Shetland Islands' 'South Ayrshire'\n",
      " 'South Lanarkshire' 'Stirling' 'West Dunbartonshire' 'West Lothian']\n",
      "['Ayrshire and Arran' 'Borders' 'Dumfries and Galloway' 'Forth Valley'\n",
      " 'Grampian' 'Highland' 'Lothian' 'Orkney' 'Shetland' 'Western Isles'\n",
      " 'Fife' 'Tayside' 'Greater Glasgow and Clyde' 'Lanarkshire'\n",
      " 'East Ayrshire' 'Na h-Eileanan Siar' 'North Ayrshire' 'Orkney Islands'\n",
      " 'Scottish Borders' 'Shetland Islands' 'South Ayrshire'\n",
      " 'South Lanarkshire' 'Aberdeen City' 'Aberdeenshire' 'City of Edinburgh'\n",
      " 'Glasgow City' 'North Lanarkshire' 'Scotland' 'Clackmannanshire'\n",
      " 'East Lothian' 'East Renfrewshire' 'Falkirk' 'Inverclyde' 'Midlothian'\n",
      " 'Moray' 'Stirling' 'Argyll and Bute' 'Renfrewshire' 'West Dunbartonshire'\n",
      " 'West Lothian' 'Angus' 'Dundee City' 'East Dunbartonshire'\n",
      " 'Perth and Kinross']\n",
      "             Council  Avg life expectancy  fruit_veg_intake\n",
      "0      Aberdeen City               78.895              19.0\n",
      "1      Aberdeenshire               80.970              19.0\n",
      "2              Angus               79.720              16.0\n",
      "3    Argyll and Bute               80.065              20.0\n",
      "4  City of Edinburgh               79.890              33.0\n"
     ]
    }
   ],
   "source": [
    "# Inspect the councils in both dataframes\n",
    "print(df_life_avg['Council'].unique())\n",
    "print(df_veg['Council'].unique())\n",
    "\n",
    "# Merge them on 'Council'\n",
    "df_final = df_life_avg.merge(df_veg[['Council', 'fruit_veg_intake']], on='Council', how='inner')\n",
    "\n",
    "print(df_final.head())\n"
   ]
  },
  {
   "cell_type": "code",
   "execution_count": 61,
   "id": "d2905ba7-c804-4662-a224-1eeff98350e6",
   "metadata": {},
   "outputs": [],
   "source": [
    "df_final['Lifestyle Group'] = df_final['fruit_veg_intake'].apply(\n",
    "    lambda x: 'Healthy' if x >= 20 else 'Poor'  # example threshold, adjust as needed\n",
    ")\n"
   ]
  },
  {
   "cell_type": "code",
   "execution_count": 73,
   "id": "240931df-5350-4fb2-b4c1-3ddf6ea7cd15",
   "metadata": {},
   "outputs": [
    {
     "data": {
      "image/png": "[encoded data removed]",
      "text/plain": [
       "<Figure size 640x480 with 1 Axes>"
      ]
     },
     "metadata": {},
     "output_type": "display_data"
    }
   ],
   "source": [
    "import seaborn as sns\n",
    "import matplotlib.pyplot as plt\n",
    "\n",
    "sns.boxplot(x='Lifestyle Group', y='Avg life expectancy', data=df_final)\n",
    "plt.title('Life Expectancy by Lifestyle Group (Fruit & Veg Intake)')\n",
    "plt.show()\n"
   ]
  },
  {
   "cell_type": "code",
   "execution_count": 74,
   "id": "de78eb67-8a22-40d0-badc-eda4639ebd7a",
   "metadata": {},
   "outputs": [
    {
     "name": "stdout",
     "output_type": "stream",
     "text": [
      "Index(['Council', 'Frequency', '2013', '2014', '2015', '2016', '2017', '2019',\n",
      "       '2023'],\n",
      "      dtype='object')\n"
     ]
    }
   ],
   "source": [
    "print(df_green.columns)\n"
   ]
  },
  {
   "cell_type": "code",
   "execution_count": 75,
   "id": "84e59d3f-6fc7-4413-acf1-cb040387237c",
   "metadata": {},
   "outputs": [
    {
     "name": "stdout",
     "output_type": "stream",
     "text": [
      "Council      object\n",
      "Frequency    object\n",
      "2013         object\n",
      "2014         object\n",
      "2015         object\n",
      "2016         object\n",
      "2017         object\n",
      "2019         object\n",
      "2023         object\n",
      "dtype: object\n"
     ]
    }
   ],
   "source": [
    "print(df_green.dtypes)\n"
   ]
  },
  {
   "cell_type": "code",
   "execution_count": 76,
   "id": "9fefbd70-8e12-470b-a72f-f58e5b8497a0",
   "metadata": {},
   "outputs": [],
   "source": [
    "# Convert year columns to numeric\n",
    "green_years = ['2013', '2014', '2015', '2016', '2017', '2019', '2023']\n",
    "df_green[green_years] = df_green[green_years].apply(pd.to_numeric, errors='coerce')\n"
   ]
  },
  {
   "cell_type": "code",
   "execution_count": 77,
   "id": "5044fce9-7151-4b63-8309-4aff676143a4",
   "metadata": {},
   "outputs": [
    {
     "name": "stdout",
     "output_type": "stream",
     "text": [
      "Council       object\n",
      "Frequency     object\n",
      "2013         float64\n",
      "2014         float64\n",
      "2015         float64\n",
      "2016         float64\n",
      "2017         float64\n",
      "2019         float64\n",
      "2023         float64\n",
      "dtype: object\n"
     ]
    }
   ],
   "source": [
    "print(df_green.dtypes)"
   ]
  },
  {
   "cell_type": "code",
   "execution_count": 78,
   "id": "3788f2c7-6b12-4b68-9f43-d3449c0dfc65",
   "metadata": {},
   "outputs": [
    {
     "name": "stdout",
     "output_type": "stream",
     "text": [
      "         Council  green_space\n",
      "0  Aberdeen City    33.557143\n",
      "1  Aberdeen City    13.542857\n",
      "2  Aberdeen City    18.628571\n",
      "3  Aberdeen City    11.657143\n",
      "4  Aberdeen City    22.442857\n"
     ]
    }
   ],
   "source": [
    "df_green_simple = df_green.copy()\n",
    "df_green_simple['green_space'] = df_green_simple[green_years].mean(axis=1, skipna=True)\n",
    "df_green_simple = df_green_simple[['Council', 'green_space']]\n",
    "print(df_green_simple.head())\n"
   ]
  },
  {
   "cell_type": "code",
   "execution_count": 79,
   "id": "bf5b627e-748a-4c51-b85e-2e0c4e4b734e",
   "metadata": {},
   "outputs": [
    {
     "name": "stdout",
     "output_type": "stream",
     "text": [
      "Index(['Council', 'Frequency', '2009', '2010', '2011', '2012', '2013', '2014',\n",
      "       '2015', '2016', '2017', '2018', '2019', '2022', '2023'],\n",
      "      dtype='object')\n"
     ]
    }
   ],
   "source": [
    "print(df_leisure.columns)\n",
    "\n"
   ]
  },
  {
   "cell_type": "code",
   "execution_count": 80,
   "id": "dc991cba-b52d-4ba8-816c-ebb184442f25",
   "metadata": {},
   "outputs": [],
   "source": [
    "leisure_years = ['2013', '2014', '2015', '2016', '2017', '2019', '2023']\n",
    "df_leisure[leisure_years] = df_leisure[leisure_years].apply(pd.to_numeric, errors='coerce')\n"
   ]
  },
  {
   "cell_type": "code",
   "execution_count": 81,
   "id": "4265fcde-a9e6-4483-a6e8-c6b5b526f2c5",
   "metadata": {},
   "outputs": [],
   "source": [
    "df_leisure_simple = df_leisure[['Council'] + leisure_years].copy()\n",
    "df_leisure_simple['leisure_facilities'] = df_leisure_simple[leisure_years].mean(axis=1, skipna=True)\n",
    "df_leisure_simple = df_leisure_simple[['Council', 'leisure_facilities']]\n"
   ]
  },
  {
   "cell_type": "code",
   "execution_count": 82,
   "id": "bfa62b44-5a3d-4fe8-a3d7-6300c3c923ea",
   "metadata": {},
   "outputs": [
    {
     "name": "stdout",
     "output_type": "stream",
     "text": [
      "         Council  leisure_facilities\n",
      "0  Aberdeen City           33.800000\n",
      "1  Aberdeen City           19.442857\n",
      "2  Aberdeen City           45.742857\n",
      "3  Aberdeen City            1.183333\n",
      "4  Aberdeen City          100.000000\n"
     ]
    }
   ],
   "source": [
    "print(df_leisure_simple.head())\n"
   ]
  },
  {
   "cell_type": "code",
   "execution_count": 87,
   "id": "5b7f78bf-8272-4959-ac4e-32c17c871a1f",
   "metadata": {},
   "outputs": [],
   "source": [
    "# For life expectancy, assuming the column is 'Avg life expectancy'\n",
    "df_life_avg_simple = df_life_avg[['Council', 'Avg life expectancy']]\n",
    "\n",
    "# For green space, year 2023 chosen\n",
    "df_green_simple = df_green[['Council', '2023']].rename(columns={'2023': 'green_space'})\n",
    "\n",
    "# For leisure facilities, year 2023 chosen\n",
    "df_leisure_simple = df_leisure[['Council', '2023']].rename(columns={'2023': 'leisure_facilities'})\n",
    "\n",
    "# For fruit & veg intake, pyear 2023 chosen\n",
    "df_veg_simple = df_veg[['Council', 'fruit_veg_intake']]  \n"
   ]
  },
  {
   "cell_type": "code",
   "execution_count": 89,
   "id": "c6ab0858-3f38-4809-976f-678e766c498a",
   "metadata": {},
   "outputs": [
    {
     "name": "stdout",
     "output_type": "stream",
     "text": [
      "         Council  Avg life expectancy  green_space  leisure_facilities  \\\n",
      "0  Aberdeen City               78.895         35.6                19.9   \n",
      "1  Aberdeen City               78.895         35.6                23.3   \n",
      "2  Aberdeen City               78.895         35.6                54.1   \n",
      "3  Aberdeen City               78.895         35.6                 2.7   \n",
      "4  Aberdeen City               78.895         35.6               100.0   \n",
      "\n",
      "   fruit_veg_intake  \n",
      "0              19.0  \n",
      "1              19.0  \n",
      "2              19.0  \n",
      "3              19.0  \n",
      "4              19.0  \n"
     ]
    }
   ],
   "source": [
    "df_merged = df_life_avg_simple.merge(df_green_simple, on='Council') \\\n",
    "                             .merge(df_leisure_simple, on='Council') \\\n",
    "                             .merge(df_veg_simple, on='Council')\n",
    "print(df_merged.head())\n"
   ]
  },
  {
   "cell_type": "code",
   "execution_count": 86,
   "id": "18d1f04b-7900-4ff6-93d3-27c28f06b063",
   "metadata": {},
   "outputs": [
    {
     "name": "stdout",
     "output_type": "stream",
     "text": [
      "           Council  Avg life expectancy  green_space  leisure_facilities  \\\n",
      "1675  West Lothian                 78.8        220.0                38.2   \n",
      "1676  West Lothian                 78.8        220.0                24.9   \n",
      "1677  West Lothian                 78.8        220.0                 NaN   \n",
      "1678  West Lothian                 78.8        220.0               100.0   \n",
      "1679  West Lothian                 78.8        220.0               220.0   \n",
      "\n",
      "      fruit_veg_intake  \n",
      "1675              22.0  \n",
      "1676              22.0  \n",
      "1677              22.0  \n",
      "1678              22.0  \n",
      "1679              22.0  \n"
     ]
    }
   ],
   "source": [
    "print(df_merged.tail())"
   ]
  },
  {
   "cell_type": "code",
   "execution_count": null,
   "id": "0d747bae-e68b-4156-a9b2-ec1a83922730",
   "metadata": {},
   "outputs": [],
   "source": []
  }
 ],
 "metadata": {
  "kernelspec": {
   "display_name": "Python 3.12",
   "language": "python",
   "name": "python3.12"
  },
  "language_info": {
   "codemirror_mode": {
    "name": "ipython",
    "version": 3
   },
   "file_extension": ".py",
   "mimetype": "text/x-python",
   "name": "python",
   "nbconvert_exporter": "python",
   "pygments_lexer": "ipython3",
   "version": "3.12.6"
  }
 },
 "nbformat": 4,
 "nbformat_minor": 5
}
