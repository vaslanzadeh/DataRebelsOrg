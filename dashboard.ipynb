{
 "cells": [
  {
   "cell_type": "markdown",
   "id": "14efecae-0bee-419d-8a21-ae715b977a44",
   "metadata": {},
   "source": [
    "# Dashoard"
   ]
  },
  {
   "cell_type": "markdown",
   "id": "5421c52e-ea21-4b93-8b4e-dec9316ccaad",
   "metadata": {},
   "source": [
    "## You need to install dash: pip install dash"
   ]
  },
  {
   "cell_type": "markdown",
   "id": "6f64422e-1c50-4dae-bff2-3580e196e5ed",
   "metadata": {},
   "source": [
    "## You can see the dasboard here: http://127.0.0.1:8050/"
   ]
  },
  {
   "cell_type": "code",
   "execution_count": 34,
   "id": "1ed66143-6e82-4df6-ad85-11da127a5d0e",
   "metadata": {},
   "outputs": [],
   "source": [
    "import pandas as pd\n",
    "import matplotlib.pyplot as plt\n",
    "from sklearn.linear_model import LinearRegression\n",
    "import numpy as np\n",
    "from dash import Dash, dcc, html\n",
    "from dash.dependencies import Input, Output\n",
    "\n",
    "# Load the health indicators dataset\n",
    "health_indicators = 'Datasets/ScottishHealthSurveyDataByLocalAuthorities.csv'\n",
    "health_indicators_df = pd.read_csv(health_indicators)\n",
    "\n",
    "# Load the life expectancy dataset\n",
    "life_expectancy = 'Datasets/lifeexpectancy_by_counties.csv'\n",
    "life_expectancy_df = pd.read_csv(life_expectancy)\n",
    "\n",
    "# Filter for Scottish areas (councils)\n",
    "scottish_areas_df = life_expectancy_df[life_expectancy_df['Country'] == 'Scotland']\n",
    "\n",
    "# Get unique areas and indicators for dropdown options\n",
    "areas = health_indicators_df['FeatureName'].unique()\n",
    "indicators = health_indicators_df['Scottish Health Survey Indicator'].unique()"
   ]
  },
  {
   "cell_type": "markdown",
   "id": "7709fdbe-ee2e-472d-9b5e-ffa6e94bccec",
   "metadata": {},
   "source": [
    "num_areas = len(areas)\n",
    "print(num_areas)\n",
    "num_indicators = len(indicators)\n",
    "print(num_indicators)\n",
    "print (life_expectancy_df)"
   ]
  },
  {
   "cell_type": "code",
   "execution_count": 35,
   "id": "5c99c641-36af-4f1c-8394-9650ccf022b6",
   "metadata": {},
   "outputs": [
    {
     "data": {
      "text/html": [
       "\n",
       "        <iframe\n",
       "            width=\"100%\"\n",
       "            height=\"650\"\n",
       "            src=\"http://127.0.0.1:8050/\"\n",
       "            frameborder=\"0\"\n",
       "            allowfullscreen\n",
       "            \n",
       "        ></iframe>\n",
       "        "
      ],
      "text/plain": [
       "<IPython.lib.display.IFrame at 0x13751324690>"
      ]
     },
     "metadata": {},
     "output_type": "display_data"
    }
   ],
   "source": [
    "# Initialize Dash app\n",
    "app = Dash(__name__)\n",
    "\n",
    "app.layout = html.Div([\n",
    "    html.H1(\"Health Indicators and Life Expectancy Dashboard\"),\n",
    "    html.Label(\"Select Area:\"),\n",
    "    dcc.Dropdown(\n",
    "        id='area-dropdown',\n",
    "        options=[{'label': area, 'value': area} for area in areas],\n",
    "        value=areas[0]\n",
    "    ),\n",
    "    html.Label(\"Select Health Indicator:\"),\n",
    "    dcc.Dropdown(\n",
    "        id='indicator-dropdown',\n",
    "        options=[{'label': indicator, 'value': indicator} for indicator in indicators],\n",
    "        value=indicators[0]\n",
    "    ),\n",
    "    dcc.Graph(id='trend-prediction-graph')\n",
    "])\n",
    "\n",
    "@app.callback(\n",
    "    Output('trend-prediction-graph', 'figure'),\n",
    "    [Input('area-dropdown', 'value'),\n",
    "     Input('indicator-dropdown', 'value')]\n",
    ")\n",
    "def update_graph(selected_area, selected_indicator):\n",
    "    # Filter the health indicators data for selected area and indicator\n",
    "    filtered_health_df = health_indicators_df[(health_indicators_df['FeatureName'] == selected_area) & \n",
    "                                              (health_indicators_df['Scottish Health Survey Indicator'] == selected_indicator)].copy()\n",
    "\n",
    "    # Extract the start year from the DateCode and convert it to a numerical value for health indicator data\n",
    "    if not filtered_health_df.empty:\n",
    "        filtered_health_df.loc[:, 'StartYear'] = filtered_health_df['DateCode'].apply(lambda x: int(x.split('-')[0]))\n",
    "\n",
    "        # Calculate the average value for the selected health indicator in the selected area for each StartYear\n",
    "        average_health_df = filtered_health_df.groupby('StartYear')['Value'].mean().reset_index()\n",
    "\n",
    "        # Prepare the data for linear regression model for health indicator\n",
    "        X_health = average_health_df['StartYear'].values.reshape(-1, 1)\n",
    "        y_health = average_health_df['Value'].values\n",
    "\n",
    "        # Create and train the linear regression model for health indicator\n",
    "        model_health = LinearRegression()\n",
    "        model_health.fit(X_health, y_health)\n",
    "\n",
    "        # Predict the next 20 years for health indicator\n",
    "        future_years_health = np.arange(average_health_df['StartYear'].max() + 1, average_health_df['StartYear'].max() + 21).reshape(-1, 1)\n",
    "        predictions_health = model_health.predict(future_years_health)\n",
    "    else:\n",
    "        predictions_health = []\n",
    "        average_health_df = pd.DataFrame(columns=['StartYear', 'Value'])\n",
    "        future_years_health = np.array([]).reshape(-1, 1)\n",
    "\n",
    "    # Filter the life expectancy data for selected area\n",
    "    life_expectancy_area_df = scottish_areas_df[scottish_areas_df['Area name'] == selected_area].copy()\n",
    "\n",
    "    # Extract the start year from the Period and convert it to a numerical value for life expectancy data\n",
    "    if not life_expectancy_area_df.empty:\n",
    "        life_expectancy_area_df.loc[:, 'StartYear'] = life_expectancy_area_df['Period'].apply(lambda x: int(x.split(' ')[0]))\n",
    "\n",
    "        # Calculate the average value for life expectancy in the selected area for each StartYear\n",
    "        average_life_expectancy_area_df = life_expectancy_area_df.groupby('StartYear')['Life expectancy'].mean().reset_index()\n",
    "\n",
    "        # Prepare the data for linear regression model for life expectancy\n",
    "        X_life_expectancy = average_life_expectancy_area_df['StartYear'].values.reshape(-1, 1)\n",
    "        y_life_expectancy = average_life_expectancy_area_df['Life expectancy'].values\n",
    "\n",
    "        # Create and train the linear regression model for life expectancy\n",
    "        model_life_expectancy = LinearRegression()\n",
    "        model_life_expectancy.fit(X_life_expectancy, y_life_expectancy)\n",
    "\n",
    "        # Predict the next 20 years for life expectancy\n",
    "        future_years_life_expectancy = np.arange(average_life_expectancy_area_df['StartYear'].max() + 1, average_life_expectancy_area_df['StartYear'].max() + 21).reshape(-1, 1)\n",
    "        predictions_life_expectancy = model_life_expectancy.predict(future_years_life_expectancy)\n",
    "    else:\n",
    "        predictions_life_expectancy = []\n",
    "        average_life_expectancy_area_df = pd.DataFrame(columns=['StartYear', 'Life expectancy'])\n",
    "        future_years_life_expectancy = np.array([]).reshape(-1, 1)\n",
    "\n",
    "    # Create figure with subplots for health indicator and life expectancy trends and predictions\n",
    "    fig = {\n",
    "        'data': [\n",
    "            {'x': average_health_df['StartYear'], 'y': average_health_df['Value'], 'type': 'scatter', 'name': f'{selected_indicator} Historical Data'},\n",
    "            {'x': future_years_health.flatten(), 'y': predictions_health, 'type': 'scatter', 'name': f'{selected_indicator} Predictions'},\n",
    "            {'x': average_life_expectancy_area_df['StartYear'], 'y': average_life_expectancy_area_df['Life expectancy'], 'type': 'scatter', 'name': 'Life Expectancy Historical Data'},\n",
    "            {'x': future_years_life_expectancy.flatten(), 'y': predictions_life_expectancy, 'type': 'scatter', 'name': 'Life Expectancy Predictions'}\n",
    "        ],\n",
    "        'layout': {\n",
    "            'title': f'Trend and Predictions of {selected_indicator} and Life Expectancy in {selected_area}',\n",
    "            'xaxis': {'title': 'Year'},\n",
    "            'yaxis': {'title': 'Value'},\n",
    "            'legend': {'x': 1, 'y': 1}\n",
    "        }\n",
    "    }\n",
    "\n",
    "    return fig\n",
    "\n",
    "# Run the app in Jupyter notebook\n",
    "app.run(mode='inline')\n"
   ]
  },
  {
   "cell_type": "code",
   "execution_count": null,
   "id": "861c7a7c-88c9-4e56-9d9c-97e189eac526",
   "metadata": {},
   "outputs": [],
   "source": []
  }
 ],
 "metadata": {
  "kernelspec": {
   "display_name": "Python 3 (ipykernel)",
   "language": "python",
   "name": "python3"
  },
  "language_info": {
   "codemirror_mode": {
    "name": "ipython",
    "version": 3
   },
   "file_extension": ".py",
   "mimetype": "text/x-python",
   "name": "python",
   "nbconvert_exporter": "python",
   "pygments_lexer": "ipython3",
   "version": "3.10.16"
  }
 },
 "nbformat": 4,
 "nbformat_minor": 5
}
